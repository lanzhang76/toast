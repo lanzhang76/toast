{
 "cells": [
  {
   "cell_type": "markdown",
   "metadata": {},
   "source": [
    "# Parse Seinfeld script into dialogue only txt"
   ]
  },
  {
   "cell_type": "code",
   "execution_count": 2,
   "metadata": {},
   "outputs": [],
   "source": [
    "import pandas as pd\n",
    "df = pd.read_csv('seinfeld_raw.txt')"
   ]
  },
  {
   "cell_type": "code",
   "execution_count": 3,
   "metadata": {},
   "outputs": [
    {
     "data": {
      "text/html": [
       "<div>\n",
       "<style scoped>\n",
       "    .dataframe tbody tr th:only-of-type {\n",
       "        vertical-align: middle;\n",
       "    }\n",
       "\n",
       "    .dataframe tbody tr th {\n",
       "        vertical-align: top;\n",
       "    }\n",
       "\n",
       "    .dataframe thead th {\n",
       "        text-align: right;\n",
       "    }\n",
       "</style>\n",
       "<table border=\"1\" class=\"dataframe\">\n",
       "  <thead>\n",
       "    <tr style=\"text-align: right;\">\n",
       "      <th></th>\n",
       "      <th>Unnamed: 0</th>\n",
       "      <th>Character</th>\n",
       "      <th>Dialogue</th>\n",
       "      <th>EpisodeNo</th>\n",
       "      <th>SEID</th>\n",
       "      <th>Season</th>\n",
       "    </tr>\n",
       "  </thead>\n",
       "  <tbody>\n",
       "    <tr>\n",
       "      <td>0</td>\n",
       "      <td>0</td>\n",
       "      <td>JERRY</td>\n",
       "      <td>Do you know what this is all about? Do you kno...</td>\n",
       "      <td>1</td>\n",
       "      <td>S01E01</td>\n",
       "      <td>1</td>\n",
       "    </tr>\n",
       "    <tr>\n",
       "      <td>1</td>\n",
       "      <td>1</td>\n",
       "      <td>JERRY</td>\n",
       "      <td>(pointing at Georges shirt) See, to me, that b...</td>\n",
       "      <td>1</td>\n",
       "      <td>S01E01</td>\n",
       "      <td>1</td>\n",
       "    </tr>\n",
       "    <tr>\n",
       "      <td>2</td>\n",
       "      <td>2</td>\n",
       "      <td>GEORGE</td>\n",
       "      <td>Are you through?</td>\n",
       "      <td>1</td>\n",
       "      <td>S01E01</td>\n",
       "      <td>1</td>\n",
       "    </tr>\n",
       "    <tr>\n",
       "      <td>3</td>\n",
       "      <td>3</td>\n",
       "      <td>JERRY</td>\n",
       "      <td>You do of course try on, when you buy?</td>\n",
       "      <td>1</td>\n",
       "      <td>S01E01</td>\n",
       "      <td>1</td>\n",
       "    </tr>\n",
       "    <tr>\n",
       "      <td>4</td>\n",
       "      <td>4</td>\n",
       "      <td>GEORGE</td>\n",
       "      <td>Yes, it was purple, I liked it, I dont actuall...</td>\n",
       "      <td>1</td>\n",
       "      <td>S01E01</td>\n",
       "      <td>1</td>\n",
       "    </tr>\n",
       "    <tr>\n",
       "      <td>...</td>\n",
       "      <td>...</td>\n",
       "      <td>...</td>\n",
       "      <td>...</td>\n",
       "      <td>...</td>\n",
       "      <td>...</td>\n",
       "      <td>...</td>\n",
       "    </tr>\n",
       "    <tr>\n",
       "      <td>54611</td>\n",
       "      <td>54611</td>\n",
       "      <td>JERRY</td>\n",
       "      <td>Grand theft auto - don't steal any of my jokes.</td>\n",
       "      <td>23</td>\n",
       "      <td>S09E23</td>\n",
       "      <td>9</td>\n",
       "    </tr>\n",
       "    <tr>\n",
       "      <td>54612</td>\n",
       "      <td>54612</td>\n",
       "      <td>PRISONER 3</td>\n",
       "      <td>You suck - I'm gonna cut you.</td>\n",
       "      <td>23</td>\n",
       "      <td>S09E23</td>\n",
       "      <td>9</td>\n",
       "    </tr>\n",
       "    <tr>\n",
       "      <td>54613</td>\n",
       "      <td>54613</td>\n",
       "      <td>JERRY</td>\n",
       "      <td>Hey, I don't come down to where you work, and ...</td>\n",
       "      <td>23</td>\n",
       "      <td>S09E23</td>\n",
       "      <td>9</td>\n",
       "    </tr>\n",
       "    <tr>\n",
       "      <td>54614</td>\n",
       "      <td>54614</td>\n",
       "      <td>GUARD</td>\n",
       "      <td>Alright, Seinfeld, that's it. Let's go. Come on.</td>\n",
       "      <td>23</td>\n",
       "      <td>S09E23</td>\n",
       "      <td>9</td>\n",
       "    </tr>\n",
       "    <tr>\n",
       "      <td>54615</td>\n",
       "      <td>54615</td>\n",
       "      <td>JERRY</td>\n",
       "      <td>Alright, hey, you've been great! See you in th...</td>\n",
       "      <td>23</td>\n",
       "      <td>S09E23</td>\n",
       "      <td>9</td>\n",
       "    </tr>\n",
       "  </tbody>\n",
       "</table>\n",
       "<p>54616 rows × 6 columns</p>\n",
       "</div>"
      ],
      "text/plain": [
       "       Unnamed: 0   Character  \\\n",
       "0               0       JERRY   \n",
       "1               1       JERRY   \n",
       "2               2      GEORGE   \n",
       "3               3       JERRY   \n",
       "4               4      GEORGE   \n",
       "...           ...         ...   \n",
       "54611       54611       JERRY   \n",
       "54612       54612  PRISONER 3   \n",
       "54613       54613       JERRY   \n",
       "54614       54614       GUARD   \n",
       "54615       54615       JERRY   \n",
       "\n",
       "                                                Dialogue  EpisodeNo    SEID  \\\n",
       "0      Do you know what this is all about? Do you kno...          1  S01E01   \n",
       "1      (pointing at Georges shirt) See, to me, that b...          1  S01E01   \n",
       "2                                       Are you through?          1  S01E01   \n",
       "3                 You do of course try on, when you buy?          1  S01E01   \n",
       "4      Yes, it was purple, I liked it, I dont actuall...          1  S01E01   \n",
       "...                                                  ...        ...     ...   \n",
       "54611    Grand theft auto - don't steal any of my jokes.         23  S09E23   \n",
       "54612                      You suck - I'm gonna cut you.         23  S09E23   \n",
       "54613  Hey, I don't come down to where you work, and ...         23  S09E23   \n",
       "54614   Alright, Seinfeld, that's it. Let's go. Come on.         23  S09E23   \n",
       "54615  Alright, hey, you've been great! See you in th...         23  S09E23   \n",
       "\n",
       "       Season  \n",
       "0           1  \n",
       "1           1  \n",
       "2           1  \n",
       "3           1  \n",
       "4           1  \n",
       "...       ...  \n",
       "54611       9  \n",
       "54612       9  \n",
       "54613       9  \n",
       "54614       9  \n",
       "54615       9  \n",
       "\n",
       "[54616 rows x 6 columns]"
      ]
     },
     "execution_count": 3,
     "metadata": {},
     "output_type": "execute_result"
    }
   ],
   "source": [
    "df"
   ]
  },
  {
   "cell_type": "code",
   "execution_count": 8,
   "metadata": {},
   "outputs": [],
   "source": [
    "all_lines = df[\"Dialogue\"].values"
   ]
  },
  {
   "cell_type": "code",
   "execution_count": 9,
   "metadata": {},
   "outputs": [
    {
     "data": {
      "text/plain": [
       "54616"
      ]
     },
     "execution_count": 9,
     "metadata": {},
     "output_type": "execute_result"
    }
   ],
   "source": [
    "len(all_lines)"
   ]
  },
  {
   "cell_type": "code",
   "execution_count": 17,
   "metadata": {},
   "outputs": [],
   "source": [
    "with open('seinfeld_dialogue.txt', 'w') as f:\n",
    "    for line in all_lines:\n",
    "        f.write(str(line))"
   ]
  },
  {
   "cell_type": "code",
   "execution_count": null,
   "metadata": {},
   "outputs": [],
   "source": []
  }
 ],
 "metadata": {
  "kernelspec": {
   "display_name": "Python 3",
   "language": "python",
   "name": "python3"
  },
  "language_info": {
   "codemirror_mode": {
    "name": "ipython",
    "version": 3
   },
   "file_extension": ".py",
   "mimetype": "text/x-python",
   "name": "python",
   "nbconvert_exporter": "python",
   "pygments_lexer": "ipython3",
   "version": "3.7.5"
  }
 },
 "nbformat": 4,
 "nbformat_minor": 2
}
